{
 "cells": [
  {
   "cell_type": "markdown",
   "id": "754132c5",
   "metadata": {},
   "source": [
    "# pyflwdir 測試\n",
    "\n",
    "主要是看能不能使用上頭前溪的資料，看會不會用，能不能達到專案的需求\n",
    "\n",
    "雖然還有問題，但似乎我們專案要用的東西，具備了\n",
    "\n",
    "目前可以產生頭前溪的\n",
    "\n",
    "1.線圖\n",
    "\n",
    "2.子流域\n",
    "\n",
    "3.算一點上游的集水區\n",
    "\n",
    "4.算兩點之間的集水區\n",
    "\n",
    "5.取得通過幾點下游的線圖\n",
    "\n"
   ]
  },
  {
   "cell_type": "code",
   "execution_count": 1,
   "id": "5f657733",
   "metadata": {},
   "outputs": [],
   "source": [
    "#畫圖要用的函示\n",
    "%matplotlib inline\n",
    "import matplotlib\n",
    "import matplotlib.pyplot as plt\n",
    "from matplotlib import cm, colors\n",
    "import cartopy.crs as ccrs\n",
    "import descartes\n",
    "import numpy as np\n",
    "np.random.seed(seed=101)\n",
    "matplotlib.rcParams['savefig.bbox'] = 'tight'\n",
    "matplotlib.rcParams['savefig.dpi'] = 256\n",
    "plt.style.use('seaborn-whitegrid')\n",
    "\n",
    "def quickplot(gdfs=[], maps=[], hillshade=True, title='', filename='flw', save=False):\n",
    "    fig = plt.figure(figsize=(8,15))\n",
    "    ax = fig.add_subplot(projection=ccrs.PlateCarree())\n",
    "    # plot hillshade background\n",
    "    if hillshade:\n",
    "        ls = matplotlib.colors.LightSource(azdeg=115, altdeg=45)\n",
    "        hillshade = ls.hillshade(np.ma.masked_equal(elevtn, -9999), vert_exag=1e3)\n",
    "        ax.imshow(hillshade, origin='upper', extent=flw.extent, cmap='Greys', alpha=0.3, zorder=0)\n",
    "    # plot geopandas GeoDataFrame\n",
    "    for gdf, kwargs in gdfs:\n",
    "        gdf.plot(ax=ax, **kwargs)\n",
    "    for data, nodata, kwargs in maps:\n",
    "        ax.imshow(np.ma.masked_equal(data, nodata), origin='upper', extent=flw.extent, **kwargs)\n",
    "    ax.set_aspect('equal')\n",
    "    ax.set_title(title, fontsize='large')\n",
    "    ax.text(0.01, 0.01, 'created with pyflwdir', transform=ax.transAxes, fontsize='large')\n",
    "    if save:\n",
    "        plt.savefig(f'output/{filename}.png')\n",
    "    return ax"
   ]
  },
  {
   "cell_type": "code",
   "execution_count": 2,
   "id": "e406197b",
   "metadata": {},
   "outputs": [
    {
     "name": "stdout",
     "output_type": "stream",
     "text": [
      "data/C1300_20m_LDD.tif info:<open DatasetReader name='data/C1300_20m_LDD.tif' mode='r'>\n",
      "data/C1300_20m_elv0.tif info:<open DatasetReader name='data/C1300_20m_elv0.tif' mode='r'>\n"
     ]
    }
   ],
   "source": [
    "# 載入資料\n",
    "import rasterio\n",
    "import pyflwdir\n",
    "import geopandas as gpd\n",
    "\n",
    "my=1\n",
    "\n",
    "if my:\n",
    "    flwdir_filename ='data/C1300_20m_LDD.tif'\n",
    "    elevtn_filename = 'data/C1300_20m_elv0.tif'\n",
    "\n",
    "else:\n",
    "    flwdir_filename = \"data/rhine_d8.tif\"\n",
    "    elevtn_filename = 'data/rhine_elv0.tif'\n",
    "\n",
    "with rasterio.open(flwdir_filename, 'r') as src1:\n",
    "    flwdir = src1.read(1)\n",
    "    #flwdir[flwdir==-32768]=-9999 # debug\n",
    "    #flwdir[flwdir==-1]=-999 # debug\n",
    "    transform = src1.transform\n",
    "    crs = src1.crs\n",
    "    latlon = crs.to_epsg() == 4326\n",
    "    print(\"%s info:%s\" %(flwdir_filename,src1))\n",
    "with rasterio.open(elevtn_filename, 'r') as src2:\n",
    "    elevtn = src2.read(1)\n",
    "    if my:\n",
    "        elevtn[elevtn==-99999]=-9999\n",
    "    prof = src2.profile\n",
    "    print(\"%s info:%s\" %(elevtn_filename,src2))\n"
   ]
  },
  {
   "cell_type": "code",
   "execution_count": 3,
   "id": "9f2055cf",
   "metadata": {},
   "outputs": [
    {
     "name": "stdout",
     "output_type": "stream",
     "text": [
      "{'ftype': 'ldd',\n",
      " 'idxs_ds': array([-1, -1, -1, ..., -1, -1, -1], dtype=int32),\n",
      " 'idxs_pit': array([ 540653, 1909678, 2635460, 3276180, 4662033, 4779528], dtype=int32),\n",
      " 'idxs_seq': None,\n",
      " 'latlon': False,\n",
      " 'ncells': 2199615,\n",
      " 'shape': (2197, 2180),\n",
      " 'transform': Affine(20.00229477064219, 0.0, 239707.5006,\n",
      "       0.0, -20.00229476558928, 2751895.7128)}\n"
     ]
    }
   ],
   "source": [
    "# 產生 pyflwdir 主要的物件\n",
    "if my:\n",
    "    ftype='ldd'\n",
    "else:\n",
    "    ftype='d8'\n",
    "flw = pyflwdir.from_array(flwdir,ftype=ftype, transform=transform, latlon=latlon, cache=True) #d8\n",
    "print(flw)"
   ]
  },
  {
   "cell_type": "code",
   "execution_count": 4,
   "id": "b6284aa1",
   "metadata": {},
   "outputs": [],
   "source": [
    "# calculate upstream area\n",
    "uparea = flw.upstream_area(unit='km2')\n",
    "# plot with lognorm scale\n",
    "if my:\n",
    "    upa = (uparea, -9999, dict(cmap='Greens', alpha=0.8,norm=colors.Normalize(vmin=1,vmax=1e5))) #-9999\n",
    "else:\n",
    "    upa = (uparea, -9999, dict(cmap='Greens', alpha=1.0, norm=colors.LogNorm(vmin=1, vmax=1e5))) #-9999\n",
    "    ax = quickplot(maps=[upa], hillshade=True, title='Upstream area', filename='flw_uparea') #True"
   ]
  },
  {
   "cell_type": "code",
   "execution_count": 7,
   "id": "f9dea630",
   "metadata": {},
   "outputs": [],
   "source": [
    "#河道\n",
    "feats = flw.streams(min_sto=9)\n",
    "gdf = gpd.GeoDataFrame.from_features(feats, crs=crs)\n",
    "\n",
    "if my:\n",
    "    pass\n",
    "else:\n",
    "    # plot\n",
    "    # create nice colormap of Blues with less white\n",
    "    cmap_streams = colors.ListedColormap(cm.Blues(np.linspace(0.4, 1, 7)))\n",
    "    streams = (gdf, dict(column='strord', cmap=cmap_streams))\n",
    "    ax = quickplot(gdfs=[streams], title='Streams', filename='flw_streams')"
   ]
  },
  {
   "cell_type": "code",
   "execution_count": 8,
   "id": "c7d8fb5e",
   "metadata": {},
   "outputs": [],
   "source": [
    "# 函式\n",
    "# we can use rasterio.features to vectorize basins\n",
    "from rasterio import features\n",
    "\n",
    "def vectorize(data, nodata, transform, crs=crs):\n",
    "    feats_gen = features.shapes(\n",
    "        data, mask=data!=nodata, transform=transform, connectivity=8,\n",
    "    )\n",
    "    feats = [\n",
    "        {\"geometry\": geom, \"properties\": {\"value\": val}}\n",
    "        for geom, val in list(feats_gen)\n",
    "    ]\n",
    "\n",
    "    # parse to geopandas for plotting / writing to file\n",
    "    gdf = gpd.GeoDataFrame.from_features(feats, crs=crs)\n",
    "    return gdf"
   ]
  },
  {
   "cell_type": "code",
   "execution_count": 9,
   "id": "3d1b936a",
   "metadata": {},
   "outputs": [],
   "source": [
    "# 算子流域\n",
    "# define output locations\n",
    "if my:\n",
    "    x, y = np.array([260993, 261000]), np.array([2735861, 2736000])\n",
    "else:\n",
    "    x, y = np.array([4.67916667, 7.60416667]), np.array([51.72083333, 50.3625])\n",
    "    \n",
    "# delineate subbasins\n",
    "subbasins = flw.basins(xy=(x,y), streams=flw.stream_order()>=4)\n",
    "# vectorize\n",
    "gdf_bas = vectorize(subbasins.astype(np.int32), 0, flw.transform)\n",
    "# plot\n",
    "streams = (gdf[gdf['strord']>=6], dict(color='grey'))\n",
    "bas = (gdf_bas, dict(edgecolor='black', facecolor='none', linewidth=0.8))\n",
    "subbas = (subbasins, 0, dict(cmap='Set3', alpha=0.5))\n",
    "if not my:\n",
    "    ax = quickplot([streams, bas], [subbas], title='Basins from point outlets', filename='flw_basins')\n"
   ]
  },
  {
   "cell_type": "code",
   "execution_count": 10,
   "id": "38923311",
   "metadata": {},
   "outputs": [
    {
     "data": {
      "image/png": "[encoded data removed]",
      "text/plain": [
       "<Figure size 432x288 with 1 Axes>"
      ]
     },
     "metadata": {},
     "output_type": "display_data"
    }
   ],
   "source": [
    "# calculate subbasins with a minimum stream order 7\n",
    "subbas = flw.subbasins_streamorder(min_sto=7, mask=None)\n",
    "gdf_subbas = vectorize(subbas.astype(np.int32), 0, flw.transform)\n",
    "\n",
    "#plot\n",
    "if my:\n",
    "    gdf_subbas.plot()\n",
    "    gdf_subbas.to_file('output/river_c1300_subbas.geojson', driver='GeoJSON')\n",
    "    \n",
    "else:\n",
    "    cmap = colors.ListedColormap(cm.Set3(np.random.rand(68))) # create a nice random colormap\n",
    "    bas1 = (gdf_subbas, dict(edgecolor='black', facecolor='none', linewidth=0.8))\n",
    "    subbas1 = (subbas, 0, dict(cmap=cmap, alpha=0.5))\n",
    "    title='Subbasins based on a minimum stream order'\n",
    "    ax = quickplot([streams, bas1], [subbas1], title=title, filename='flw_subbasins')"
   ]
  },
  {
   "cell_type": "code",
   "execution_count": 5,
   "id": "d4e009ba",
   "metadata": {},
   "outputs": [
    {
     "ename": "TypingError",
     "evalue": "Failed in nopython mode pipeline (step: nopython frontend)\nNo implementation of function Function(<function atleast_1d at 0x7fa9018ce950>) found for signature:\n \n >>> atleast_1d(float64)\n \nThere are 2 candidate implementations:\n   - Of which 2 did not match due to:\n   Overload of function 'atleast_1d': File: numba/core/typing/npydecl.py: Line 724.\n     With argument(s): '(float64)':\n    No match.\n\nDuring: resolving callee type: Function(<function atleast_1d at 0x7fa9018ce950>)\nDuring: typing of call at /Volumes/F2020/opt/anaconda3/envs/py37/lib/python3.7/site-packages/pyflwdir/basins.py (166)\n\n\nFile \"../../../../Volumes/F2020/opt/anaconda3/envs/py37/lib/python3.7/site-packages/pyflwdir/basins.py\", line 166:\ndef subbasins_pfafstetter(idxs_pit, idxs_ds, seq, uparea, upa_min=0, depth=1, mv=_mv):\n    <source elided>\n    #\n    upa_min = np.atleast_1d(upa_min)\n    ^\n",
     "output_type": "error",
     "traceback": [
      "\u001b[0;31m---------------------------------------------------------------------------\u001b[0m",
      "\u001b[0;31mTypingError\u001b[0m                               Traceback (most recent call last)",
      "\u001b[0;32m<ipython-input-5-86f94a1b4dd4>\u001b[0m in \u001b[0;36m<module>\u001b[0;34m\u001b[0m\n\u001b[1;32m      1\u001b[0m \u001b[0;31m# 有 Error , 目前不會解決\u001b[0m\u001b[0;34m\u001b[0m\u001b[0;34m\u001b[0m\u001b[0;34m\u001b[0m\u001b[0m\n\u001b[1;32m      2\u001b[0m \u001b[0;31m# get the first level nine pfafstetter basins\u001b[0m\u001b[0;34m\u001b[0m\u001b[0;34m\u001b[0m\u001b[0;34m\u001b[0m\u001b[0m\n\u001b[0;32m----> 3\u001b[0;31m \u001b[0mpfafbas1\u001b[0m \u001b[0;34m=\u001b[0m \u001b[0mflw\u001b[0m\u001b[0;34m.\u001b[0m\u001b[0msubbasins_pfafstetter\u001b[0m\u001b[0;34m(\u001b[0m\u001b[0mdepth\u001b[0m\u001b[0;34m=\u001b[0m\u001b[0;36m1\u001b[0m\u001b[0;34m,\u001b[0m \u001b[0muparea\u001b[0m\u001b[0;34m=\u001b[0m\u001b[0muparea\u001b[0m\u001b[0;34m)\u001b[0m\u001b[0;34m\u001b[0m\u001b[0;34m\u001b[0m\u001b[0m\n\u001b[0m\u001b[1;32m      4\u001b[0m \u001b[0mgdf_pfaf1\u001b[0m \u001b[0;34m=\u001b[0m \u001b[0mvectorize\u001b[0m\u001b[0;34m(\u001b[0m\u001b[0mpfafbas1\u001b[0m\u001b[0;34m.\u001b[0m\u001b[0mastype\u001b[0m\u001b[0;34m(\u001b[0m\u001b[0mnp\u001b[0m\u001b[0;34m.\u001b[0m\u001b[0mint32\u001b[0m\u001b[0;34m)\u001b[0m\u001b[0;34m,\u001b[0m \u001b[0;36m0\u001b[0m\u001b[0;34m,\u001b[0m \u001b[0mflw\u001b[0m\u001b[0;34m.\u001b[0m\u001b[0mtransform\u001b[0m\u001b[0;34m)\u001b[0m\u001b[0;34m\u001b[0m\u001b[0;34m\u001b[0m\u001b[0m\n\u001b[1;32m      5\u001b[0m \u001b[0;34m\u001b[0m\u001b[0m\n",
      "\u001b[0;32m/Volumes/F2020/opt/anaconda3/envs/py37/lib/python3.7/site-packages/pyflwdir/pyflwdir.py\u001b[0m in \u001b[0;36msubbasins_pfafstetter\u001b[0;34m(self, depth, uparea, upa_min)\u001b[0m\n\u001b[1;32m    741\u001b[0m             \u001b[0mupa_min\u001b[0m\u001b[0;34m=\u001b[0m\u001b[0mupa_min\u001b[0m\u001b[0;34m,\u001b[0m\u001b[0;34m\u001b[0m\u001b[0;34m\u001b[0m\u001b[0m\n\u001b[1;32m    742\u001b[0m             \u001b[0mdepth\u001b[0m\u001b[0;34m=\u001b[0m\u001b[0mdepth\u001b[0m\u001b[0;34m,\u001b[0m\u001b[0;34m\u001b[0m\u001b[0;34m\u001b[0m\u001b[0m\n\u001b[0;32m--> 743\u001b[0;31m             \u001b[0mmv\u001b[0m\u001b[0;34m=\u001b[0m\u001b[0mself\u001b[0m\u001b[0;34m.\u001b[0m\u001b[0m_mv\u001b[0m\u001b[0;34m,\u001b[0m\u001b[0;34m\u001b[0m\u001b[0;34m\u001b[0m\u001b[0m\n\u001b[0m\u001b[1;32m    744\u001b[0m         )\n\u001b[1;32m    745\u001b[0m         \u001b[0;32mreturn\u001b[0m \u001b[0mpfaf\u001b[0m\u001b[0;34m.\u001b[0m\u001b[0mreshape\u001b[0m\u001b[0;34m(\u001b[0m\u001b[0mself\u001b[0m\u001b[0;34m.\u001b[0m\u001b[0mshape\u001b[0m\u001b[0;34m)\u001b[0m\u001b[0;34m\u001b[0m\u001b[0;34m\u001b[0m\u001b[0m\n",
      "\u001b[0;32m/Volumes/F2020/opt/anaconda3/envs/py37/lib/python3.7/site-packages/numba/core/dispatcher.py\u001b[0m in \u001b[0;36m_compile_for_args\u001b[0;34m(self, *args, **kws)\u001b[0m\n\u001b[1;32m    418\u001b[0m                 \u001b[0me\u001b[0m\u001b[0;34m.\u001b[0m\u001b[0mpatch_message\u001b[0m\u001b[0;34m(\u001b[0m\u001b[0mmsg\u001b[0m\u001b[0;34m)\u001b[0m\u001b[0;34m\u001b[0m\u001b[0;34m\u001b[0m\u001b[0m\n\u001b[1;32m    419\u001b[0m \u001b[0;34m\u001b[0m\u001b[0m\n\u001b[0;32m--> 420\u001b[0;31m             \u001b[0merror_rewrite\u001b[0m\u001b[0;34m(\u001b[0m\u001b[0me\u001b[0m\u001b[0;34m,\u001b[0m \u001b[0;34m'typing'\u001b[0m\u001b[0;34m)\u001b[0m\u001b[0;34m\u001b[0m\u001b[0;34m\u001b[0m\u001b[0m\n\u001b[0m\u001b[1;32m    421\u001b[0m         \u001b[0;32mexcept\u001b[0m \u001b[0merrors\u001b[0m\u001b[0;34m.\u001b[0m\u001b[0mUnsupportedError\u001b[0m \u001b[0;32mas\u001b[0m \u001b[0me\u001b[0m\u001b[0;34m:\u001b[0m\u001b[0;34m\u001b[0m\u001b[0;34m\u001b[0m\u001b[0m\n\u001b[1;32m    422\u001b[0m             \u001b[0;31m# Something unsupported is present in the user code, add help info\u001b[0m\u001b[0;34m\u001b[0m\u001b[0;34m\u001b[0m\u001b[0;34m\u001b[0m\u001b[0m\n",
      "\u001b[0;32m/Volumes/F2020/opt/anaconda3/envs/py37/lib/python3.7/site-packages/numba/core/dispatcher.py\u001b[0m in \u001b[0;36merror_rewrite\u001b[0;34m(e, issue_type)\u001b[0m\n\u001b[1;32m    359\u001b[0m                 \u001b[0;32mraise\u001b[0m \u001b[0me\u001b[0m\u001b[0;34m\u001b[0m\u001b[0;34m\u001b[0m\u001b[0m\n\u001b[1;32m    360\u001b[0m             \u001b[0;32melse\u001b[0m\u001b[0;34m:\u001b[0m\u001b[0;34m\u001b[0m\u001b[0;34m\u001b[0m\u001b[0m\n\u001b[0;32m--> 361\u001b[0;31m                 \u001b[0;32mraise\u001b[0m \u001b[0me\u001b[0m\u001b[0;34m.\u001b[0m\u001b[0mwith_traceback\u001b[0m\u001b[0;34m(\u001b[0m\u001b[0;32mNone\u001b[0m\u001b[0;34m)\u001b[0m\u001b[0;34m\u001b[0m\u001b[0;34m\u001b[0m\u001b[0m\n\u001b[0m\u001b[1;32m    362\u001b[0m \u001b[0;34m\u001b[0m\u001b[0m\n\u001b[1;32m    363\u001b[0m         \u001b[0margtypes\u001b[0m \u001b[0;34m=\u001b[0m \u001b[0;34m[\u001b[0m\u001b[0;34m]\u001b[0m\u001b[0;34m\u001b[0m\u001b[0;34m\u001b[0m\u001b[0m\n",
      "\u001b[0;31mTypingError\u001b[0m: Failed in nopython mode pipeline (step: nopython frontend)\nNo implementation of function Function(<function atleast_1d at 0x7fa9018ce950>) found for signature:\n \n >>> atleast_1d(float64)\n \nThere are 2 candidate implementations:\n   - Of which 2 did not match due to:\n   Overload of function 'atleast_1d': File: numba/core/typing/npydecl.py: Line 724.\n     With argument(s): '(float64)':\n    No match.\n\nDuring: resolving callee type: Function(<function atleast_1d at 0x7fa9018ce950>)\nDuring: typing of call at /Volumes/F2020/opt/anaconda3/envs/py37/lib/python3.7/site-packages/pyflwdir/basins.py (166)\n\n\nFile \"../../../../Volumes/F2020/opt/anaconda3/envs/py37/lib/python3.7/site-packages/pyflwdir/basins.py\", line 166:\ndef subbasins_pfafstetter(idxs_pit, idxs_ds, seq, uparea, upa_min=0, depth=1, mv=_mv):\n    <source elided>\n    #\n    upa_min = np.atleast_1d(upa_min)\n    ^\n"
     ]
    }
   ],
   "source": [
    "# 有 Error , 目前不會解決\n",
    "# get the first level nine pfafstetter basins\n",
    "pfafbas1 = flw.subbasins_pfafstetter(depth=1, uparea=uparea)\n",
    "gdf_pfaf1 = vectorize(pfafbas1.astype(np.int32), 0, flw.transform)\n",
    "\n",
    "# plot\n",
    "if my:\n",
    "    gdf_pfaf1.plot()\n",
    "    \n",
    "else:\n",
    "    pfafbas = (pfafbas1, 0, dict(cmap='Set3', alpha=0.5))\n",
    "    pfaf1 = (gdf_pfaf1, dict(edgecolor='black', facecolor='none', linewidth=0.8))\n",
    "    title='Subbasins based on pfafstetter coding (level=1)'\n",
    "    #ax = quickplot([streams, pfaf1], [pfafbas], title=title, filename='flw_pfafbas1')"
   ]
  },
  {
   "cell_type": "code",
   "execution_count": 39,
   "id": "501e1220",
   "metadata": {},
   "outputs": [
    {
     "data": {
      "image/png": "[encoded data removed]",
      "text/plain": [
       "<Figure size 432x288 with 1 Axes>"
      ]
     },
     "metadata": {},
     "output_type": "display_data"
    }
   ],
   "source": [
    "# 算通過點的下游路線\n",
    "# flow paths return the list of linear indices\n",
    "if my:\n",
    "    xy=[[260993,2735861,'油羅上坪匯流'],[253520,2743364,'隆恩堰'],[247785,2746443,'湳雅取水口']]\n",
    "    xy=([260993, 253520, 247785], [2735861, 2743364, 2746443])\n",
    "    \n",
    "else:\n",
    "    xy=([8.92, 5.55, 8.50], [50.28, 49.80, 47.3])\n",
    "flowpaths, dists = flw.path(xy=xy, max_length=400e3, unit='m')\n",
    "# which we than use to vectorize to geofeatures\n",
    "feats = flw.geofeatures(flowpaths)\n",
    "gdf_paths = gpd.GeoDataFrame.from_features(feats, crs=crs).reset_index()\n",
    "gdf_pnts = gpd.GeoDataFrame(geometry=gpd.points_from_xy(*xy)).reset_index()\n",
    "# and plot\n",
    "my=1\n",
    "if my:\n",
    "    gdf_paths.plot()\n",
    "    gdf_paths.to_file('output/river_c1300_path.geojson', driver='GeoJSON')\n",
    "    #gdf_pnts.plot()\n",
    "else:\n",
    "    pnt = (gdf_pnts, dict(column='index', cmap='tab10', s=60, marker='<', zorder=4))\n",
    "    fp = (gdf_paths, dict(column='index', cmap='tab10', linewidth=2))\n",
    "    title='Flow path from source points (<) with max. distance of 400 km)'\n",
    "    ax = quickplot([streams, fp, pnt], title=title, filename='flw_path2')"
   ]
  },
  {
   "cell_type": "markdown",
   "id": "887ce5ab",
   "metadata": {},
   "source": [
    "# 有用的"
   ]
  },
  {
   "cell_type": "code",
   "execution_count": 196,
   "id": "85d7d7a6",
   "metadata": {},
   "outputs": [
    {
     "name": "stdout",
     "output_type": "stream",
     "text": [
      "min_sto=4 count 38969\n",
      "min_sto=5 count 8783\n",
      "min_sto=6 count 2034\n",
      "min_sto=7 count 477\n",
      "min_sto=8 count 106\n",
      "min_sto=9 count 23\n",
      "min_sto=10 count 5\n",
      "min_sto=11 count 1\n"
     ]
    }
   ],
   "source": [
    "# 河道不同細緻度\n",
    "for i in range(4,12):\n",
    "    feats = flw.streams(min_sto=i)\n",
    "    print(\"min_sto=%i count %i\" %(i,len(feats)))\n",
    "    gdf = gpd.GeoDataFrame.from_features(feats, crs=crs)\n",
    "    gdf.to_file('output/river_c1300_%i.geojson' %(i), driver='GeoJSON')\n"
   ]
  },
  {
   "cell_type": "code",
   "execution_count": 236,
   "id": "7e6e29dd",
   "metadata": {},
   "outputs": [],
   "source": [
    "# 通過點的上游流域\n",
    "points=[[260993,2735861,'油羅上坪匯流'],[253520,2743364,'隆恩堰'],[247785,2746443,'湳雅取水口']]\n",
    "bas=[]\n",
    "for p in points:\n",
    "    x, y = np.array([p[0], p[0]+250]), np.array([p[1], p[1]+250])\n",
    "    subbasins = flw.basins(xy=(x,y), streams=flw.stream_order()>=4)\n",
    "    gdf_bas = vectorize(subbasins.astype(np.int32), 0, flw.transform)\n",
    "    \n",
    "    gdf_bas.to_file('output/river_c1300_basin_%s.geojson' %(p[2]), driver='GeoJSON')\n",
    "    bas.append(gdf_bas)\n"
   ]
  },
  {
   "cell_type": "code",
   "execution_count": 283,
   "id": "9f9c8fde",
   "metadata": {},
   "outputs": [],
   "source": [
    "#求  隆恩堰 - 油羅上坪匯流 的集水區差\n",
    "a=bas[1].iloc[1]['geometry'] # iloc[0],iloc[1] 不是一樣的，要用 iloc[1] 才對\n",
    "b=bas[0].iloc[1]['geometry']\n",
    "\n",
    "c=a.difference(b)\n",
    "\n",
    "gs = gpd.GeoSeries([c])\n",
    "if 0: # 兩種方式輸出，效果相同\n",
    "    gs.to_file('output/basin_diff_2point.geojson', driver='GeoJSON')\n",
    "if 1:\n",
    "    geojson = gs.to_json()\n",
    "    with open(\"output/basin_diff_2point.geojson\", \"w\") as out:\n",
    "        out.write(geojson)"
   ]
  },
  {
   "cell_type": "code",
   "execution_count": 84,
   "id": "19d94c7d",
   "metadata": {},
   "outputs": [
    {
     "name": "stdout",
     "output_type": "stream",
     "text": [
      "index=0,length=64969,seg cnt=2757,start=(255899.35821683484, 2715201.503052526),end=(243037.8826793119, 2749385.4248069185),idxs=3998929\n",
      "index=1,length=14610,seg cnt=637,start=(265760.48953876144, 2715881.5810745563),end=(261640.01681600916, 2721442.21901939),idxs=3925302\n",
      "index=2,length=4380,seg cnt=191,start=(264300.32202050457, 2721542.230493218),end=(261640.01681600916, 2721442.21901939),idxs=3308289\n",
      "index=3,length=22579,seg cnt=977,start=(261640.01681600916, 2721442.21901939),end=(260999.9433833486, 2735863.87354538),idxs=3319056\n",
      "index=4,length=3733,seg cnt=157,start=(275261.5795548165, 2730263.231011015),end=(272241.23304444953, 2731443.3664021846),idxs=2358357\n",
      "index=5,length=6186,seg cnt=261,start=(274941.5428384862, 2736243.917145926),end=(270661.0517575688, 2733223.5706363223),idxs=1706521\n",
      "index=6,length=2476,seg cnt=107,start=(271181.11142160546, 2729603.1552837505),end=(272241.23304444953, 2731443.3664021846),idxs=2430093\n",
      "index=7,length=3054,seg cnt=133,start=(272241.23304444953, 2731443.3664021846),end=(270661.0517575688, 2733223.5706363223),idxs=2229586\n",
      "index=8,length=13457,seg cnt=569,start=(270661.0517575688, 2733223.5706363223),end=(260999.9433833486, 2735863.87354538),idxs=2035487\n",
      "index=9,length=10216,seg cnt=431,start=(266080.5262550917, 2735703.8551872554),end=(259119.72767490824, 2738084.1282643606),idxs=1764938\n",
      "index=10,length=3416,seg cnt=142,start=(260999.9433833486, 2735863.87354538),end=(259119.72767490824, 2738084.1282643606),idxs=1747244\n",
      "index=11,length=11352,seg cnt=465,start=(259119.72767490824, 2738084.1282643606),end=(251858.8946731651, 2744424.855705052),idxs=1505170\n",
      "index=12,length=2845,seg cnt=113,start=(254079.1493927064, 2747465.2045094217),end=(252098.92221041283, 2749065.3880906687),idxs=482498\n",
      "index=13,length=1880,seg cnt=83,start=(252498.96810582565, 2747565.2159832497),end=(252098.92221041283, 2749065.3880906687),idxs=471519\n",
      "index=14,length=800,seg cnt=34,start=(252118.92450518347, 2743804.784567319),end=(251858.8946731651, 2744424.855705052),idxs=881340\n",
      "index=15,length=11368,seg cnt=506,start=(252098.92221041283, 2749065.3880906687),end=(242537.82531004585, 2749825.475291761),idxs=307999\n",
      "index=16,length=11277,seg cnt=465,start=(251858.8946731651, 2744424.855705052),end=(243037.8826793119, 2749385.4248069185),idxs=813747\n",
      "index=17,length=682,seg cnt=26,start=(243037.8826793119, 2749385.4248069185),end=(242537.82531004585, 2749825.475291761),idxs=272666\n",
      "index=18,length=6273,seg cnt=268,start=(242537.82531004585, 2749825.475291761),end=(239977.53157940364, 2746925.1425507506),idxs=224681\n",
      "index=19,length=6415,seg cnt=261,start=(272081.21468628437, 2718441.8748045517),end=(276121.6782299541, 2721842.2649147017),idxs=3646578\n",
      "index=20,length=68,seg cnt=5,start=(263600.24170353205, 2709180.812328084),end=(263580.23940876144, 2709120.805443787),idxs=4655494\n",
      "index=21,length=0,seg cnt=2,start=(259079.72308536695, 2708040.6815264453),end=(259079.72308536695, 2708040.6815264453),idxs=4779528\n",
      "index=22,length=0,seg cnt=2,start=(280122.13718408253, 2727722.9395757853),end=(280122.13718408253, 2727722.9395757853),idxs=2635460\n",
      "link={0: 17, 1: 3, 2: 3, 3: 10, 4: 7, 5: 8, 6: 7, 7: 8, 8: 10, 9: 11, 10: 11, 11: 16, 12: 15, 13: 15, 14: 16, 15: 18, 16: 17, 17: 18, 21: 21, 22: 22}\n",
      "N0->N17\n",
      "N1->N3\n",
      "N2->N3\n",
      "N3->N10\n",
      "N4->N7\n",
      "N5->N8\n",
      "N6->N7\n",
      "N7->N8\n",
      "N8->N10\n",
      "N9->N11\n",
      "N10->N11\n",
      "N11->N16\n",
      "N12->N15\n",
      "N13->N15\n",
      "N14->N16\n",
      "N15->N18\n",
      "N16->N17\n",
      "N17->N18\n",
      "N21->N21\n",
      "N22->N22\n"
     ]
    }
   ],
   "source": [
    "# 觀察 stream 的連接性\n",
    "coords={}\n",
    "for index, row in gdf.iterrows():\n",
    "    line = row['geometry']\n",
    "    idxs=row['idxs']\n",
    "    points = list(line.coords)\n",
    "    start = points[0]\n",
    "    end = points[len(points)-1]\n",
    "    coords[index]=[start,end]\n",
    "    print(\"index=%i,length=%i,seg cnt=%i,start=%s,end=%s,idxs=%i\" %(index,line.length,len(line.coords),start,end,idxs))\n",
    "\n",
    "link={}\n",
    "for key in coords.keys():\n",
    "    start,end = coords[key]\n",
    "    for key2 in coords.keys():\n",
    "        start2,end2 = coords[key2]\n",
    "        if end==start2:\n",
    "            if key in link:\n",
    "                print(\"index=%i already have start=%i\" %(key,link[key]))\n",
    "            link[key]=key2\n",
    "print(\"link=%s\" %(link))\n",
    "\n",
    "if 0:\n",
    "    for i in range(len(gdf.index)):\n",
    "        if i in link.keys():\n",
    "            #print(\"index=%i PASS\" %(i))\n",
    "            pass\n",
    "        else:\n",
    "            print(\"index=%i,info=%s\" %(index,gdf.iloc[i]))\n",
    "\n",
    "for l in link:\n",
    "    print(\"N%i->N%i\" %(l,link[l]))\n",
    "#print(gdf.iloc[22]['geometry'])"
   ]
  },
  {
   "cell_type": "code",
   "execution_count": 137,
   "id": "d257ef68",
   "metadata": {},
   "outputs": [
    {
     "name": "stdout",
     "output_type": "stream",
     "text": [
      "POINT (1.05 1.05)\n",
      "LINESTRING (1.05 1.05, 1.1 1, 1.5 0.5)\n",
      "GEOMETRYCOLLECTION (LINESTRING (0 0, 1.05 1.05), LINESTRING (1.05 1.05, 2 2))\n"
     ]
    },
    {
     "data": {
      "text/plain": [
       "shapely.geometry.collection.GeometryCollection"
      ]
     },
     "execution_count": 137,
     "metadata": {},
     "output_type": "execute_result"
    }
   ],
   "source": [
    "#測試用一個接近點，切開一個線段\n",
    "from shapely.ops import split\n",
    "from shapely.geometry import *\n",
    "from shapely.ops import snap\n",
    "from shapely.ops import nearest_points\n",
    "if 0: #split\n",
    "    pt = Point((1.15, 1.1))\n",
    "    line = LineString([(0,0), (2,2)])\n",
    "    result = split(line, pt)\n",
    "    #result.wkt \n",
    "if 0: # snap\n",
    "    square = Polygon([(1,1), (2, 1), (2, 2), (1, 2), (1, 1)])\n",
    "    line = LineString([(0,0), (0.8, 0.8), (1.8, 0.95), (2.6, 0.5)])\n",
    "    result = snap(line, square, 0.5)\n",
    "    print(result.wkt)\n",
    "if 0: # 點切開線\n",
    "    pt = Point((1.1, 1))\n",
    "    line = LineString([(0,0), (2,2)])\n",
    "    print(line)\n",
    "    #print(\"line within point:%s,dist=%f\"% (line.within(pt),line.distance(pt)))\n",
    "    nearp=nearest_points(line, pt)\n",
    "    pt_in = nearp[0]\n",
    "    #print(pt_in)\n",
    "    result = split(line, pt_in)    \n",
    "    print(result.wkt)\n",
    "if 1:# 圳路接入主流\n",
    "    line = LineString([(0,0), (2,2)])\n",
    "    line_add=LineString([(1.1,1), (1.5,0.5)])\n",
    "    pt = Point(list(line_add.coords)[0])\n",
    "    if 1:\n",
    "        pt_in = nearest_points(line, pt)[0]\n",
    "        print(pt_in)\n",
    "\n",
    "        pts = []\n",
    "        pts.append(list(pt_in.coords)[0])\n",
    "        pts.extend(list(line_add.coords))\n",
    "        line_add_new = LineString(pts)\n",
    "        print(line_add_new)\n",
    "\n",
    "        result = split(line, pt_in)  \n",
    "        print(result.wkt)\n",
    "    \n",
    "type(result)\n",
    "    "
   ]
  },
  {
   "cell_type": "code",
   "execution_count": 174,
   "id": "0889b342",
   "metadata": {},
   "outputs": [
    {
     "name": "stdout",
     "output_type": "stream",
     "text": [
      "line_need=MULTILINESTRING ((255779.344448211 2742184.598691306, 255062.5247244421 2741882.126046313, 254328.860747065 2742279.997664814))\n",
      "start:POINT (255779.344448211 2742184.598691306)\n",
      "index=11, minimal distance=0.000000\n",
      "line_append=LINESTRING (255779.344448211 2742184.598691306, 255779.344448211 2742184.598691306, 255062.5247244421 2741882.126046313, 254328.860747065 2742279.997664814)\n",
      "line_split=GEOMETRYCOLLECTION (LINESTRING (259119.7276749082 2738084.128264361, 259099.7253801376 2738104.130559126, 259079.7230853669 2738124.132853892, 259059.7207905963 2738124.132853892, 259039.7184958257 2738144.135148657, 259019.716201055 2738144.135148657, 258999.7139062844 2738164.137443423, 258979.7116115137 2738164.137443423, 258959.7093167431 2738164.137443423, 258939.7070219725 2738184.139738188, 258919.7047272018 2738184.139738188, 258899.7024324312 2738184.139738188, 258879.7001376605 2738184.139738188, 258859.6978428899 2738204.142032954, 258839.6955481193 2738204.142032954, 258819.6932533486 2738204.142032954, 258799.690958578 2738224.14432772, 258779.6886638073 2738224.14432772, 258759.6863690367 2738224.14432772, 258739.684074266 2738224.14432772, 258719.6817794954 2738224.14432772, 258699.6794847247 2738224.14432772, 258679.6771899541 2738224.14432772, 258659.6748951835 2738224.14432772, 258639.6726004128 2738224.14432772, 258619.6703056422 2738204.142032954, 258599.6680108715 2738204.142032954, 258579.6657161009 2738204.142032954, 258559.6634213302 2738204.142032954, 258539.6611265596 2738204.142032954, 258519.658831789 2738204.142032954, 258499.6565370183 2738204.142032954, 258479.6542422477 2738204.142032954, 258459.651947477 2738224.14432772, 258439.6496527064 2738224.14432772, 258419.6473579358 2738244.146622485, 258399.6450631651 2738244.146622485, 258379.6427683945 2738264.148917251, 258359.6404736238 2738284.151212016, 258339.6381788532 2738284.151212016, 258319.6358840826 2738284.151212016, 258299.6335893119 2738284.151212016, 258279.6312945413 2738304.153506782, 258259.6289997706 2738324.155801547, 258239.626705 2738344.158096313, 258219.6244102293 2738364.160391079, 258199.6221154587 2738384.162685844, 258179.619820688 2738384.162685844, 258159.6175259174 2738404.16498061, 258139.6152311468 2738424.167275375, 258119.6129363761 2738424.167275375, 258099.6106416055 2738444.169570141, 258079.6083468348 2738444.169570141, 258059.6060520642 2738464.171864907, 258039.6037572935 2738464.171864907, 258019.6014625229 2738484.174159672, 257999.5991677523 2738504.176454438, 257979.5968729816 2738504.176454438, 257959.594578211 2738524.178749203, 257939.5922834403 2738544.181043969, 257919.5899886697 2738564.183338734, 257899.5876938991 2738584.1856335, 257879.5853991284 2738604.187928266, 257859.5831043578 2738624.190223031, 257839.5808095871 2738644.192517797, 257819.5785148165 2738664.194812562, 257799.5762200459 2738664.194812562, 257779.5739252752 2738664.194812562, 257759.5716305046 2738684.197107328, 257739.5693357339 2738704.199402093, 257719.5670409633 2738724.201696859, 257719.5670409633 2738744.203991625, 257699.5647461926 2738764.20628639, 257679.562451422 2738784.208581156, 257659.5601566514 2738804.210875921, 257639.5578618807 2738824.213170687, 257639.5578618807 2738844.215465453, 257639.5578618807 2738864.217760218, 257619.5555671101 2738884.220054984, 257619.5555671101 2738904.222349749, 257619.5555671101 2738924.224644515, 257599.5532723394 2738944.226939281, 257579.5509775688 2738964.229234046, 257559.5486827981 2738984.231528812, 257539.5463880275 2739004.233823577, 257519.5440932568 2739024.236118343, 257519.5440932568 2739044.238413109, 257499.5417984862 2739064.240707874, 257499.5417984862 2739084.24300264, 257479.5395037156 2739104.245297405, 257479.5395037156 2739124.247592171, 257479.5395037156 2739144.249886937, 257459.5372089449 2739164.252181702, 257459.5372089449 2739184.254476468, 257459.5372089449 2739204.256771233, 257479.5395037156 2739224.259065999, 257499.5417984862 2739244.261360765, 257519.5440932568 2739244.261360765, 257519.5440932568 2739264.26365553, 257499.5417984862 2739284.265950296, 257499.5417984862 2739304.268245061, 257499.5417984862 2739324.270539827, 257499.5417984862 2739344.272834592, 257499.5417984862 2739364.275129358, 257479.5395037156 2739384.277424124, 257479.5395037156 2739404.279718889, 257479.5395037156 2739424.282013655, 257459.5372089449 2739444.28430842, 257439.5349141743 2739464.286603186, 257439.5349141743 2739484.288897952, 257419.5326194036 2739504.291192717, 257419.5326194036 2739524.293487483, 257419.5326194036 2739544.295782248, 257419.5326194036 2739564.298077014, 257399.530324633 2739584.30037178, 257379.5280298624 2739604.302666545, 257379.5280298624 2739624.304961311, 257379.5280298624 2739644.307256076, 257379.5280298624 2739664.309550842, 257379.5280298624 2739684.311845608, 257359.5257350917 2739704.314140373, 257339.5234403211 2739724.316435139, 257339.5234403211 2739744.318729904, 257339.5234403211 2739764.32102467, 257359.5257350917 2739784.323319436, 257339.5234403211 2739804.325614201, 257319.5211455504 2739824.327908967, 257319.5211455504 2739844.330203732, 257299.5188507798 2739864.332498498, 257279.5165560092 2739884.334793264, 257279.5165560092 2739904.337088029, 257259.5142612385 2739924.339382795, 257259.5142612385 2739944.34167756, 257239.5119664679 2739964.343972326, 257219.5096716972 2739984.346267092, 257199.5073769266 2740004.348561857, 257179.5050821559 2740024.350856623, 257179.5050821559 2740044.353151388, 257159.5027873853 2740064.355446154, 257139.5004926147 2740084.357740919, 257119.498197844 2740084.357740919, 257099.4959030734 2740104.360035685, 257079.4936083027 2740124.362330451, 257059.4913135321 2740124.362330451, 257039.4890187614 2740144.364625216, 257019.4867239908 2740164.366919982, 256999.4844292201 2740184.369214747, 256979.4821344495 2740204.371509513, 256959.4798396789 2740224.373804278, 256939.4775449082 2740244.376099044, 256919.4752501376 2740264.37839381, 256899.4729553669 2740284.380688575, 256879.4706605963 2740304.382983341, 256859.4683658257 2740324.385278106, 256839.466071055 2740344.387572872, 256819.4637762844 2740364.389867638, 256799.4614815137 2740384.392162403, 256779.4591867431 2740404.394457169, 256759.4568919725 2740424.396751934, 256739.4545972018 2740424.396751934, 256719.4523024312 2740444.3990467, 256699.4500076605 2740464.401341465, 256679.4477128899 2740484.403636231, 256659.4454181193 2740504.405930997, 256639.4431233486 2740524.408225762, 256619.440828578 2740544.410520528, 256599.4385338073 2740564.412815293, 256579.4362390367 2740584.415110059, 256559.433944266 2740604.417404824, 256539.4316494954 2740624.41969959, 256519.4293547247 2740644.421994356, 256499.4270599541 2740664.424289121, 256479.4247651835 2740684.426583887, 256479.4247651835 2740704.428878652, 256459.4224704128 2740724.431173418, 256439.4201756422 2740744.433468184, 256419.4178808715 2740764.435762949, 256419.4178808715 2740784.438057715, 256419.4178808715 2740804.44035248, 256399.4155861009 2740824.442647246, 256379.4132913302 2740844.444942011, 256379.4132913302 2740864.447236777, 256359.4109965596 2740884.449531543, 256339.408701789 2740904.451826308, 256339.408701789 2740924.454121074, 256359.4109965596 2740944.456415839, 256359.4109965596 2740964.458710605, 256359.4109965596 2740984.461005371, 256359.4109965596 2741004.463300136, 256339.408701789 2741024.465594902, 256319.4064070183 2741044.467889667, 256299.4041122477 2741044.467889667, 256279.401817477 2741044.467889667, 256259.3995227064 2741064.470184433, 256259.3995227064 2741084.472479199, 256239.3972279358 2741104.474773964, 256239.3972279358 2741124.47706873, 256219.3949331651 2741144.479363495, 256219.3949331651 2741164.481658261, 256199.3926383945 2741184.483953027, 256199.3926383945 2741204.486247792, 256179.3903436238 2741204.486247792, 256179.3903436238 2741224.488542558, 256159.3880488532 2741244.490837323, 256139.3857540826 2741264.493132089, 256139.3857540826 2741284.495426855, 256119.3834593119 2741304.49772162, 256119.3834593119 2741324.500016386, 256119.3834593119 2741344.502311151, 256119.3834593119 2741364.504605917, 256119.3834593119 2741384.506900683, 256119.3834593119 2741404.509195448, 256099.3811645413 2741424.511490214, 256099.3811645413 2741444.513784979, 256079.3788697706 2741464.516079745, 256099.3811645413 2741484.518374511, 256099.3811645413 2741504.520669276, 256099.3811645413 2741524.522964042, 256099.3811645413 2741544.525258807, 256119.3834593119 2741564.527553573, 256119.3834593119 2741584.529848339, 256119.3834593119 2741604.532143104, 256119.3834593119 2741624.53443787, 256119.3834593119 2741644.536732635, 256119.3834593119 2741664.539027401, 256119.3834593119 2741684.541322167, 256119.3834593119 2741704.543616932, 256119.3834593119 2741724.545911698, 256099.3811645413 2741744.548206463, 256099.3811645413 2741764.550501229, 256079.3788697706 2741784.552795995, 256079.3788697706 2741804.55509076, 256079.3788697706 2741824.557385526, 256079.3788697706 2741844.559680291, 256059.376575 2741864.561975057, 256059.376575 2741884.564269823, 256039.3742802293 2741904.566564588, 256039.3742802293 2741924.568859354, 256019.3719854587 2741944.571154119, 255999.369690688 2741964.573448885, 255979.3673959174 2741984.57574365, 255959.3651011468 2742004.578038416, 255939.3628063761 2742004.578038416, 255919.3605116055 2742024.580333182, 255899.3582168348 2742024.580333182, 255879.3559220642 2742044.582627947, 255879.3559220642 2742064.584922713, 255859.3536272935 2742084.587217478, 255839.3513325229 2742104.589512244, 255839.3513325229 2742124.591807009, 255819.3490377523 2742144.594101775, 255799.3467429816 2742164.596396541, 255779.344448211 2742184.598691306), LINESTRING (255779.344448211 2742184.598691306, 255759.3421534403 2742184.598691306, 255739.3398586697 2742204.600986072, 255719.3375638991 2742184.598691306, 255699.3352691284 2742184.598691306, 255679.3329743578 2742184.598691306, 255659.3306795871 2742184.598691306, 255639.3283848165 2742184.598691306, 255619.3260900459 2742204.600986072, 255599.3237952752 2742204.600986072, 255579.3215005046 2742204.600986072, 255559.3192057339 2742204.600986072, 255539.3169109633 2742204.600986072, 255519.3146161926 2742204.600986072, 255499.312321422 2742224.603280837, 255479.3100266514 2742224.603280837, 255459.3077318807 2742224.603280837, 255439.3054371101 2742224.603280837, 255419.3031423394 2742244.605575603, 255399.3008475688 2742244.605575603, 255379.2985527981 2742244.605575603, 255379.2985527981 2742264.607870369, 255359.2962580275 2742264.607870369, 255339.2939632569 2742264.607870369, 255319.2916684862 2742284.610165134, 255299.2893737156 2742304.6124599, 255279.2870789449 2742324.614754665, 255259.2847841743 2742344.617049431, 255239.2824894036 2742364.619344196, 255239.2824894036 2742384.621638962, 255239.2824894036 2742404.623933728, 255239.2824894036 2742424.626228493, 255219.280194633 2742444.628523259, 255219.280194633 2742464.630818024, 255199.2778998624 2742484.63311279, 255199.2778998624 2742504.635407555, 255199.2778998624 2742524.637702321, 255179.2756050917 2742544.639997087, 255179.2756050917 2742564.642291852, 255159.2733103211 2742584.644586618, 255139.2710155504 2742604.646881383, 255139.2710155504 2742624.649176149, 255119.2687207798 2742644.651470915, 255119.2687207798 2742664.65376568, 255099.2664260092 2742684.656060446, 255099.2664260092 2742704.658355211, 255079.2641312385 2742724.660649977, 255059.2618364679 2742744.662944742, 255059.2618364679 2742764.665239508, 255039.2595416972 2742784.667534274, 255019.2572469266 2742804.669829039, 255019.2572469266 2742824.672123805, 254999.2549521559 2742844.67441857, 254979.2526573853 2742864.676713336, 254959.2503626147 2742884.679008102, 254939.248067844 2742884.679008102, 254919.2457730734 2742904.681302867, 254899.2434783027 2742924.683597633, 254879.2411835321 2742944.685892398, 254859.2388887614 2742964.688187164, 254839.2365939908 2742964.688187164, 254819.2342992202 2742984.69048193, 254799.2320044495 2743004.692776695, 254779.2297096789 2743004.692776695, 254759.2274149082 2743024.695071461, 254739.2251201376 2743024.695071461, 254719.2228253669 2743024.695071461, 254699.2205305963 2743044.697366226, 254679.2182358257 2743044.697366226, 254659.215941055 2743064.699660992, 254639.2136462844 2743064.699660992, 254619.2113515137 2743064.699660992, 254599.2090567431 2743084.701955758, 254579.2067619725 2743084.701955758, 254559.2044672018 2743084.701955758, 254539.2021724312 2743084.701955758, 254519.1998776605 2743084.701955758, 254499.1975828899 2743104.704250523, 254479.1952881193 2743104.704250523, 254459.1929933486 2743104.704250523, 254439.190698578 2743104.704250523, 254419.1884038073 2743124.706545289, 254399.1861090367 2743144.708840054, 254379.183814266 2743144.708840054, 254359.1815194954 2743144.708840054, 254339.1792247247 2743144.708840054, 254319.1769299541 2743144.708840054, 254299.1746351835 2743144.708840054, 254279.1723404128 2743164.71113482, 254259.1700456422 2743184.713429586, 254239.1677508715 2743204.715724351, 254219.1654561009 2743204.715724351, 254199.1631613302 2743184.713429586, 254179.1608665596 2743184.713429586, 254159.158571789 2743184.713429586, 254139.1562770183 2743184.713429586, 254119.1539822477 2743184.713429586, 254099.151687477 2743184.713429586, 254079.1493927064 2743184.713429586, 254059.1470979358 2743184.713429586, 254039.1448031651 2743184.713429586, 254019.1425083945 2743204.715724351, 253999.1402136238 2743204.715724351, 253979.1379188532 2743204.715724351, 253959.1356240826 2743204.715724351, 253939.1333293119 2743204.715724351, 253919.1310345413 2743204.715724351, 253899.1287397706 2743204.715724351, 253879.126445 2743224.718019117, 253859.1241502293 2743224.718019117, 253839.1218554587 2743244.720313882, 253819.1195606881 2743244.720313882, 253799.1172659174 2743244.720313882, 253779.1149711468 2743244.720313882, 253759.1126763761 2743264.722608648, 253739.1103816055 2743284.724903414, 253719.1080868348 2743284.724903414, 253699.1057920642 2743304.727198179, 253679.1034972935 2743324.729492945, 253659.1012025229 2743344.73178771, 253639.0989077523 2743344.73178771, 253619.0966129816 2743324.729492945, 253599.094318211 2743304.727198179, 253579.0920234403 2743304.727198179, 253559.0897286697 2743304.727198179, 253539.0874338991 2743324.729492945, 253519.0851391284 2743344.73178771, 253499.0828443578 2743364.734082476, 253479.0805495871 2743364.734082476, 253459.0782548165 2743384.736377242, 253439.0759600459 2743404.738672007, 253419.0736652752 2743404.738672007, 253399.0713705046 2743424.740966773, 253379.0690757339 2743444.743261538, 253359.0667809633 2743444.743261538, 253339.0644861926 2743444.743261538, 253319.062191422 2743464.745556304, 253299.0598966514 2743484.74785107, 253279.0576018807 2743484.74785107, 253259.0553071101 2743504.750145835, 253239.0530123394 2743504.750145835, 253219.0507175688 2743524.752440601, 253199.0484227981 2743524.752440601, 253179.0461280275 2743544.754735366, 253159.0438332569 2743544.754735366, 253139.0415384862 2743564.757030132, 253119.0392437156 2743564.757030132, 253099.0369489449 2743564.757030132, 253079.0346541743 2743584.759324898, 253059.0323594036 2743584.759324898, 253039.030064633 2743604.761619663, 253019.0277698624 2743624.763914429, 252999.0254750917 2743644.766209194, 252979.0231803211 2743644.766209194, 252959.0208855504 2743644.766209194, 252939.0185907798 2743644.766209194, 252919.0162960092 2743664.76850396, 252899.0140012385 2743664.76850396, 252879.0117064679 2743684.770798726, 252859.0094116972 2743704.773093491, 252839.0071169266 2743704.773093491, 252819.004822156 2743724.775388257, 252799.0025273853 2743744.777683022, 252779.0002326147 2743744.777683022, 252758.997937844 2743764.779977788, 252738.9956430734 2743784.782272554, 252718.9933483027 2743804.784567319, 252698.9910535321 2743824.786862085, 252678.9887587614 2743844.78915685, 252678.9887587614 2743864.791451616, 252678.9887587614 2743884.793746381, 252658.9864639908 2743904.796041147, 252638.9841692202 2743924.798335913, 252618.9818744495 2743944.800630678, 252598.9795796789 2743964.802925444, 252578.9772849082 2743984.805220209, 252558.9749901376 2744004.807514975, 252538.9726953669 2744024.80980974, 252518.9704005963 2744044.812104506, 252498.9681058257 2744064.814399272, 252478.965811055 2744084.816694037, 252458.9635162844 2744104.818988803, 252438.9612215137 2744124.821283568, 252418.9589267431 2744144.823578334, 252398.9566319725 2744164.8258731, 252378.9543372018 2744164.8258731, 252358.9520424312 2744164.8258731, 252338.9497476605 2744144.823578334, 252318.9474528899 2744124.821283568, 252318.9474528899 2744104.818988803, 252298.9451581193 2744084.816694037, 252278.9428633486 2744064.814399272, 252258.940568578 2744064.814399272, 252238.9382738073 2744084.816694037, 252218.9359790367 2744104.818988803, 252198.933684266 2744124.821283568, 252178.9313894954 2744144.823578334, 252158.9290947248 2744164.8258731, 252138.9267999541 2744184.828167865, 252118.9245051835 2744204.830462631, 252098.9222104128 2744204.830462631, 252078.9199156422 2744224.832757396, 252058.9176208715 2744244.835052162, 252038.9153261009 2744264.837346927, 252018.9130313302 2744264.837346927, 251998.9107365596 2744284.839641693, 251978.908441789 2744304.841936459, 251958.9061470183 2744324.844231224, 251938.9038522477 2744344.84652599, 251918.901557477 2744364.848820755, 251898.8992627064 2744384.851115521, 251878.8969679358 2744404.853410286, 251858.8946731651 2744424.855705052))\n"
     ]
    }
   ],
   "source": [
    "#圳路接入主流\n",
    "# line_ori:要修改的線, line_need:想加入的線, line_append:更新起點的想加入線, line_split:要修改的線被匯流點切開的結果\n",
    "#取得圳路 linestring\n",
    "from shapely import wkt\n",
    "wkt_str=\"MultiLineString ((255779.34444821099168621 2742184.59869130607694387, 255062.52472444207523949 2741882.12604631343856454, 254328.86074706495855935 2742279.99766481388360262))\"\n",
    "line_need = wkt.loads(wkt_str)\n",
    "print(\"line_need=%s\" %(line_need))\n",
    "#經由圳路的起點，找到最接近需要修改的線\n",
    "start = Point(list(line_need.geoms[0].coords)[0])\n",
    "print(\"start:%s\" %(start))\n",
    "dist_min=5000\n",
    "idx_min=None\n",
    "for index, row in gdf.iterrows():\n",
    "    line = row['geometry']\n",
    "    dist = line.distance(start)\n",
    "    if dist<dist_min:\n",
    "        dist_min=dist\n",
    "        idx_min=index\n",
    "print(\"index=%i, minimal distance=%f\" %(idx_min,dist_min))\n",
    "#找到匯流點\n",
    "line_ori = gdf.loc[idx_min]['geometry']\n",
    "pt_in = nearest_points(line_ori, start)[0]\n",
    "#修改圳路起點為匯流點\n",
    "pts = []\n",
    "pts.append(list(pt_in.coords)[0])\n",
    "for i in range(len(line_need.geoms)):\n",
    "    pts.extend(list(line_need.geoms[i].coords))\n",
    "line_append = LineString(pts)\n",
    "print(\"line_append=%s\" %(line_append))\n",
    "#取得主流切開後的兩線段\n",
    "line_split = split(line_ori, pt_in) \n",
    "print(\"line_split=%s\"%(line_split))\n",
    "#在 gdf 中刪掉原線段，加入兩新線段,加入修改後的圳路\n",
    "idx_start = len(gdf.index)\n",
    "\n",
    "gdf.loc[idx_start]=[line_append,100,False,9] #geometry,idxs,pit,strord\n",
    "for i in range(len(line_split)):\n",
    "    gdf.loc[idx_start+i+1]=[line_split[i],100+i+1,False,9]\n",
    "gdf.drop(idx_min,axis=0,inplace=True)\n",
    "gdf.to_file('output/river_c1300_mergeline.geojson', driver='GeoJSON')"
   ]
  },
  {
   "cell_type": "markdown",
   "id": "79f53fa7",
   "metadata": {},
   "source": [
    "\n",
    "# Debug"
   ]
  },
  {
   "cell_type": "code",
   "execution_count": 151,
   "id": "c8aecea6",
   "metadata": {},
   "outputs": [
    {
     "data": {
      "text/html": [
       "<div>\n",
       "<style scoped>\n",
       "    .dataframe tbody tr th:only-of-type {\n",
       "        vertical-align: middle;\n",
       "    }\n",
       "\n",
       "    .dataframe tbody tr th {\n",
       "        vertical-align: top;\n",
       "    }\n",
       "\n",
       "    .dataframe thead th {\n",
       "        text-align: right;\n",
       "    }\n",
       "</style>\n",
       "<table border=\"1\" class=\"dataframe\">\n",
       "  <thead>\n",
       "    <tr style=\"text-align: right;\">\n",
       "      <th></th>\n",
       "      <th>geometry</th>\n",
       "      <th>idxs</th>\n",
       "      <th>pit</th>\n",
       "      <th>strord</th>\n",
       "    </tr>\n",
       "  </thead>\n",
       "  <tbody>\n",
       "    <tr>\n",
       "      <th>0</th>\n",
       "      <td>LINESTRING (255899.358 2715201.503, 255879.356...</td>\n",
       "      <td>3998929</td>\n",
       "      <td>False</td>\n",
       "      <td>9</td>\n",
       "    </tr>\n",
       "    <tr>\n",
       "      <th>1</th>\n",
       "      <td>LINESTRING (265760.490 2715881.581, 265740.487...</td>\n",
       "      <td>3925302</td>\n",
       "      <td>False</td>\n",
       "      <td>9</td>\n",
       "    </tr>\n",
       "    <tr>\n",
       "      <th>2</th>\n",
       "      <td>LINESTRING (264300.322 2721542.230, 264280.320...</td>\n",
       "      <td>3308289</td>\n",
       "      <td>False</td>\n",
       "      <td>9</td>\n",
       "    </tr>\n",
       "    <tr>\n",
       "      <th>3</th>\n",
       "      <td>LINESTRING (261640.017 2721442.219, 261620.015...</td>\n",
       "      <td>3319056</td>\n",
       "      <td>False</td>\n",
       "      <td>10</td>\n",
       "    </tr>\n",
       "    <tr>\n",
       "      <th>4</th>\n",
       "      <td>LINESTRING (275261.580 2730263.231, 275241.577...</td>\n",
       "      <td>2358357</td>\n",
       "      <td>False</td>\n",
       "      <td>9</td>\n",
       "    </tr>\n",
       "    <tr>\n",
       "      <th>5</th>\n",
       "      <td>LINESTRING (274941.543 2736243.917, 274921.541...</td>\n",
       "      <td>1706521</td>\n",
       "      <td>False</td>\n",
       "      <td>9</td>\n",
       "    </tr>\n",
       "    <tr>\n",
       "      <th>6</th>\n",
       "      <td>LINESTRING (271181.111 2729603.155, 271201.114...</td>\n",
       "      <td>2430093</td>\n",
       "      <td>False</td>\n",
       "      <td>9</td>\n",
       "    </tr>\n",
       "    <tr>\n",
       "      <th>7</th>\n",
       "      <td>LINESTRING (272241.233 2731443.366, 272241.233...</td>\n",
       "      <td>2229586</td>\n",
       "      <td>False</td>\n",
       "      <td>10</td>\n",
       "    </tr>\n",
       "    <tr>\n",
       "      <th>8</th>\n",
       "      <td>LINESTRING (270661.052 2733223.571, 270641.049...</td>\n",
       "      <td>2035487</td>\n",
       "      <td>False</td>\n",
       "      <td>10</td>\n",
       "    </tr>\n",
       "    <tr>\n",
       "      <th>9</th>\n",
       "      <td>LINESTRING (266080.526 2735703.855, 266060.524...</td>\n",
       "      <td>1764938</td>\n",
       "      <td>False</td>\n",
       "      <td>9</td>\n",
       "    </tr>\n",
       "    <tr>\n",
       "      <th>10</th>\n",
       "      <td>LINESTRING (260999.943 2735863.874, 260999.943...</td>\n",
       "      <td>1747244</td>\n",
       "      <td>False</td>\n",
       "      <td>11</td>\n",
       "    </tr>\n",
       "    <tr>\n",
       "      <th>11</th>\n",
       "      <td>LINESTRING (259119.728 2738084.128, 259099.725...</td>\n",
       "      <td>1505170</td>\n",
       "      <td>False</td>\n",
       "      <td>11</td>\n",
       "    </tr>\n",
       "    <tr>\n",
       "      <th>12</th>\n",
       "      <td>LINESTRING (254079.149 2747465.205, 254059.147...</td>\n",
       "      <td>482498</td>\n",
       "      <td>False</td>\n",
       "      <td>9</td>\n",
       "    </tr>\n",
       "    <tr>\n",
       "      <th>13</th>\n",
       "      <td>LINESTRING (252498.968 2747565.216, 252498.968...</td>\n",
       "      <td>471519</td>\n",
       "      <td>False</td>\n",
       "      <td>9</td>\n",
       "    </tr>\n",
       "    <tr>\n",
       "      <th>14</th>\n",
       "      <td>LINESTRING (252118.925 2743804.785, 252118.925...</td>\n",
       "      <td>881340</td>\n",
       "      <td>False</td>\n",
       "      <td>9</td>\n",
       "    </tr>\n",
       "    <tr>\n",
       "      <th>15</th>\n",
       "      <td>LINESTRING (252098.922 2749065.388, 252078.920...</td>\n",
       "      <td>307999</td>\n",
       "      <td>False</td>\n",
       "      <td>10</td>\n",
       "    </tr>\n",
       "    <tr>\n",
       "      <th>16</th>\n",
       "      <td>LINESTRING (251858.895 2744424.856, 251838.892...</td>\n",
       "      <td>813747</td>\n",
       "      <td>False</td>\n",
       "      <td>11</td>\n",
       "    </tr>\n",
       "    <tr>\n",
       "      <th>17</th>\n",
       "      <td>LINESTRING (243037.883 2749385.425, 243017.880...</td>\n",
       "      <td>272666</td>\n",
       "      <td>False</td>\n",
       "      <td>11</td>\n",
       "    </tr>\n",
       "    <tr>\n",
       "      <th>18</th>\n",
       "      <td>LINESTRING (242537.825 2749825.475, 242517.823...</td>\n",
       "      <td>224681</td>\n",
       "      <td>True</td>\n",
       "      <td>11</td>\n",
       "    </tr>\n",
       "    <tr>\n",
       "      <th>19</th>\n",
       "      <td>LINESTRING (272081.215 2718441.875, 272101.217...</td>\n",
       "      <td>3646578</td>\n",
       "      <td>True</td>\n",
       "      <td>9</td>\n",
       "    </tr>\n",
       "    <tr>\n",
       "      <th>20</th>\n",
       "      <td>LINESTRING (263600.242 2709180.812, 263600.242...</td>\n",
       "      <td>4655494</td>\n",
       "      <td>True</td>\n",
       "      <td>9</td>\n",
       "    </tr>\n",
       "    <tr>\n",
       "      <th>21</th>\n",
       "      <td>LINESTRING (259079.723 2708040.682, 259079.723...</td>\n",
       "      <td>4779528</td>\n",
       "      <td>True</td>\n",
       "      <td>9</td>\n",
       "    </tr>\n",
       "    <tr>\n",
       "      <th>22</th>\n",
       "      <td>LINESTRING (280122.137 2727722.940, 280122.137...</td>\n",
       "      <td>2635460</td>\n",
       "      <td>True</td>\n",
       "      <td>9</td>\n",
       "    </tr>\n",
       "  </tbody>\n",
       "</table>\n",
       "</div>"
      ],
      "text/plain": [
       "                                             geometry     idxs    pit  strord\n",
       "0   LINESTRING (255899.358 2715201.503, 255879.356...  3998929  False       9\n",
       "1   LINESTRING (265760.490 2715881.581, 265740.487...  3925302  False       9\n",
       "2   LINESTRING (264300.322 2721542.230, 264280.320...  3308289  False       9\n",
       "3   LINESTRING (261640.017 2721442.219, 261620.015...  3319056  False      10\n",
       "4   LINESTRING (275261.580 2730263.231, 275241.577...  2358357  False       9\n",
       "5   LINESTRING (274941.543 2736243.917, 274921.541...  1706521  False       9\n",
       "6   LINESTRING (271181.111 2729603.155, 271201.114...  2430093  False       9\n",
       "7   LINESTRING (272241.233 2731443.366, 272241.233...  2229586  False      10\n",
       "8   LINESTRING (270661.052 2733223.571, 270641.049...  2035487  False      10\n",
       "9   LINESTRING (266080.526 2735703.855, 266060.524...  1764938  False       9\n",
       "10  LINESTRING (260999.943 2735863.874, 260999.943...  1747244  False      11\n",
       "11  LINESTRING (259119.728 2738084.128, 259099.725...  1505170  False      11\n",
       "12  LINESTRING (254079.149 2747465.205, 254059.147...   482498  False       9\n",
       "13  LINESTRING (252498.968 2747565.216, 252498.968...   471519  False       9\n",
       "14  LINESTRING (252118.925 2743804.785, 252118.925...   881340  False       9\n",
       "15  LINESTRING (252098.922 2749065.388, 252078.920...   307999  False      10\n",
       "16  LINESTRING (251858.895 2744424.856, 251838.892...   813747  False      11\n",
       "17  LINESTRING (243037.883 2749385.425, 243017.880...   272666  False      11\n",
       "18  LINESTRING (242537.825 2749825.475, 242517.823...   224681   True      11\n",
       "19  LINESTRING (272081.215 2718441.875, 272101.217...  3646578   True       9\n",
       "20  LINESTRING (263600.242 2709180.812, 263600.242...  4655494   True       9\n",
       "21  LINESTRING (259079.723 2708040.682, 259079.723...  4779528   True       9\n",
       "22  LINESTRING (280122.137 2727722.940, 280122.137...  2635460   True       9"
      ]
     },
     "execution_count": 151,
     "metadata": {},
     "output_type": "execute_result"
    }
   ],
   "source": [
    "#geopandas drop/insert rows test\n",
    "if 0:\n",
    "    line = LineString([(0,0), (0.8, 0.8), (1.8, 0.95), (2.6, 0.5)])\n",
    "    #gdf.loc[23]=[line,1234,False,3]\n",
    "    #gdf.columns\n",
    "    gdf.drop(23,axis=0,inplace=True)\n",
    "gdf"
   ]
  },
  {
   "cell_type": "code",
   "execution_count": 169,
   "id": "6fd71ea1",
   "metadata": {},
   "outputs": [
    {
     "data": {
      "text/plain": [
       "shapely.geometry.linestring.LineString"
      ]
     },
     "execution_count": 169,
     "metadata": {},
     "output_type": "execute_result"
    }
   ],
   "source": [
    "type(line_split[0])"
   ]
  },
  {
   "cell_type": "code",
   "execution_count": 79,
   "id": "a7114047",
   "metadata": {},
   "outputs": [
    {
     "data": {
      "text/plain": [
       "{0: 17,\n",
       " 1: 3,\n",
       " 2: 3,\n",
       " 3: 10,\n",
       " 4: 7,\n",
       " 5: 8,\n",
       " 6: 7,\n",
       " 7: 8,\n",
       " 8: 10,\n",
       " 9: 11,\n",
       " 10: 11,\n",
       " 11: 16,\n",
       " 12: 15,\n",
       " 13: 15,\n",
       " 14: 16,\n",
       " 15: 18,\n",
       " 16: 17,\n",
       " 17: 18,\n",
       " 21: 21,\n",
       " 22: 22}"
      ]
     },
     "execution_count": 79,
     "metadata": {},
     "output_type": "execute_result"
    }
   ],
   "source": [
    "#len(gdf.index)\n",
    "link\n",
    "#gdf\n",
    "#transform\n",
    "#c=gdf.iloc[19]['geometry']\n",
    "#print(c)\n",
    "#c\n",
    "#df_c = gpd.GeoSeries([c])\n",
    "#df_c.plot()\n",
    "#crs.to_epsg()\n",
    "#flwdir\n",
    "#elevtn\n",
    "#np.savetxt('output/debug.csv', flwdir, delimiter=',')\n",
    "#src2.crs\n",
    "\n",
    "#flwdir[flwdir==-1].dtype\n",
    "#flwdir[flwdir==-32767]\n",
    "#flwdir\n",
    "#flwdir[flwdir==-9999]\n",
    "#np.savetxt('output/debug.csv', uparea[uparea!=-9999], delimiter=',')\n",
    "\n",
    "    #pt_in = snap(pt, line, 1)\n",
    "    #line_in = snap(line,pt, 0.5)"
   ]
  },
  {
   "cell_type": "code",
   "execution_count": 130,
   "id": "0f832ec4",
   "metadata": {},
   "outputs": [
    {
     "data": {
      "image/png": "[encoded data removed]",
      "text/plain": [
       "<Figure size 432x230.4 with 3 Axes>"
      ]
     },
     "metadata": {},
     "output_type": "display_data"
    }
   ],
   "source": [
    "import numpy as np\n",
    "import matplotlib.pyplot as plt\n",
    "\n",
    "H = np.array([[1, 2, 3, 4],\n",
    "              [5, 6, 7, 8],\n",
    "              [9, 10, 11, 12],\n",
    "              [13, 14, 15, 16]])  # added some commas and array creation code\n",
    "\n",
    "fig = plt.figure(figsize=(6, 3.2))\n",
    "\n",
    "ax = fig.add_subplot(111)\n",
    "ax.set_title('colorMap')\n",
    "plt.imshow(uparea)\n",
    "ax.set_aspect('equal')\n",
    "\n",
    "cax = fig.add_axes([0.12, 0.1, 0.78, 0.8])\n",
    "cax.get_xaxis().set_visible(False)\n",
    "cax.get_yaxis().set_visible(False)\n",
    "cax.patch.set_alpha(0)\n",
    "cax.set_frame_on(False)\n",
    "plt.colorbar(orientation='vertical')\n",
    "plt.show()"
   ]
  },
  {
   "cell_type": "code",
   "execution_count": 83,
   "id": "63756146",
   "metadata": {},
   "outputs": [
    {
     "data": {
      "text/plain": [
       "0    MULTILINESTRING ((255779.344 2742184.599, 2550...\n",
       "dtype: geometry"
      ]
     },
     "execution_count": 83,
     "metadata": {},
     "output_type": "execute_result"
    }
   ],
   "source": [
    "from shapely import wkt\n",
    "wkt_str=\"MultiLineString ((255779.34444821099168621 2742184.59869130607694387, 255062.52472444207523949 2741882.12604631343856454, 254328.86074706495855935 2742279.99766481388360262))\"\n",
    "p1 = wkt.loads(wkt_str)\n",
    "gs = gpd.GeoSeries([p1])\n",
    "gs"
   ]
  },
  {
   "cell_type": "markdown",
   "id": "639106c1",
   "metadata": {},
   "source": [
    "# geopandas 練習"
   ]
  },
  {
   "cell_type": "code",
   "execution_count": 13,
   "id": "4285669b",
   "metadata": {},
   "outputs": [
    {
     "data": {
      "text/html": [
       "<div>\n",
       "<style scoped>\n",
       "    .dataframe tbody tr th:only-of-type {\n",
       "        vertical-align: middle;\n",
       "    }\n",
       "\n",
       "    .dataframe tbody tr th {\n",
       "        vertical-align: top;\n",
       "    }\n",
       "\n",
       "    .dataframe thead th {\n",
       "        text-align: right;\n",
       "    }\n",
       "</style>\n",
       "<table border=\"1\" class=\"dataframe\">\n",
       "  <thead>\n",
       "    <tr style=\"text-align: right;\">\n",
       "      <th></th>\n",
       "      <th>BoroCode</th>\n",
       "      <th>BoroName</th>\n",
       "      <th>Shape_Leng</th>\n",
       "      <th>Shape_Area</th>\n",
       "      <th>geometry</th>\n",
       "    </tr>\n",
       "  </thead>\n",
       "  <tbody>\n",
       "    <tr>\n",
       "      <th>0</th>\n",
       "      <td>5</td>\n",
       "      <td>Staten Island</td>\n",
       "      <td>330470.010332</td>\n",
       "      <td>1.623820e+09</td>\n",
       "      <td>MULTIPOLYGON (((970217.022 145643.332, 970227....</td>\n",
       "    </tr>\n",
       "    <tr>\n",
       "      <th>1</th>\n",
       "      <td>4</td>\n",
       "      <td>Queens</td>\n",
       "      <td>896344.047763</td>\n",
       "      <td>3.045213e+09</td>\n",
       "      <td>MULTIPOLYGON (((1029606.077 156073.814, 102957...</td>\n",
       "    </tr>\n",
       "    <tr>\n",
       "      <th>2</th>\n",
       "      <td>3</td>\n",
       "      <td>Brooklyn</td>\n",
       "      <td>741080.523166</td>\n",
       "      <td>1.937479e+09</td>\n",
       "      <td>MULTIPOLYGON (((1021176.479 151374.797, 102100...</td>\n",
       "    </tr>\n",
       "    <tr>\n",
       "      <th>3</th>\n",
       "      <td>1</td>\n",
       "      <td>Manhattan</td>\n",
       "      <td>359299.096471</td>\n",
       "      <td>6.364715e+08</td>\n",
       "      <td>MULTIPOLYGON (((981219.056 188655.316, 980940....</td>\n",
       "    </tr>\n",
       "    <tr>\n",
       "      <th>4</th>\n",
       "      <td>2</td>\n",
       "      <td>Bronx</td>\n",
       "      <td>464392.991824</td>\n",
       "      <td>1.186925e+09</td>\n",
       "      <td>MULTIPOLYGON (((1012821.806 229228.265, 101278...</td>\n",
       "    </tr>\n",
       "  </tbody>\n",
       "</table>\n",
       "</div>"
      ],
      "text/plain": [
       "   BoroCode       BoroName     Shape_Leng    Shape_Area  \\\n",
       "0         5  Staten Island  330470.010332  1.623820e+09   \n",
       "1         4         Queens  896344.047763  3.045213e+09   \n",
       "2         3       Brooklyn  741080.523166  1.937479e+09   \n",
       "3         1      Manhattan  359299.096471  6.364715e+08   \n",
       "4         2          Bronx  464392.991824  1.186925e+09   \n",
       "\n",
       "                                            geometry  \n",
       "0  MULTIPOLYGON (((970217.022 145643.332, 970227....  \n",
       "1  MULTIPOLYGON (((1029606.077 156073.814, 102957...  \n",
       "2  MULTIPOLYGON (((1021176.479 151374.797, 102100...  \n",
       "3  MULTIPOLYGON (((981219.056 188655.316, 980940....  \n",
       "4  MULTIPOLYGON (((1012821.806 229228.265, 101278...  "
      ]
     },
     "execution_count": 13,
     "metadata": {},
     "output_type": "execute_result"
    }
   ],
   "source": [
    "import geopandas\n",
    "\n",
    "path_to_data = geopandas.datasets.get_path(\"nybb\")\n",
    "gdf = geopandas.read_file(path_to_data)\n",
    "\n",
    "gdf"
   ]
  },
  {
   "cell_type": "code",
   "execution_count": 14,
   "id": "69868cbb",
   "metadata": {},
   "outputs": [
    {
     "data": {
      "text/plain": [
       "0    1.623822e+09\n",
       "1    3.045214e+09\n",
       "2    1.937478e+09\n",
       "3    6.364712e+08\n",
       "4    1.186926e+09\n",
       "dtype: float64"
      ]
     },
     "execution_count": 14,
     "metadata": {},
     "output_type": "execute_result"
    }
   ],
   "source": [
    "gdf.area"
   ]
  },
  {
   "cell_type": "code",
   "execution_count": null,
   "id": "72469ec0",
   "metadata": {},
   "outputs": [],
   "source": [
    "sql=\"select * from basin\"\n",
    "geopandas.read_postgis(sql,connn)\n",
    "\n",
    "geopandas.read_postgis(sql, con, geom_col='geom', crs=None, index_col=None, coerce_float=True, parse_dates=None, params=None, chunksize=None)"
   ]
  }
 ],
 "metadata": {
  "kernelspec": {
   "display_name": "Python 3",
   "language": "python",
   "name": "python3"
  },
  "language_info": {
   "codemirror_mode": {
    "name": "ipython",
    "version": 3
   },
   "file_extension": ".py",
   "mimetype": "text/x-python",
   "name": "python",
   "nbconvert_exporter": "python",
   "pygments_lexer": "ipython3",
   "version": "3.7.10"
  }
 },
 "nbformat": 4,
 "nbformat_minor": 5
}
